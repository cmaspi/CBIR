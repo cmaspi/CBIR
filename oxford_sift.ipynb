{
 "cells": [
  {
   "cell_type": "code",
   "execution_count": 1,
   "metadata": {},
   "outputs": [],
   "source": [
    "from Datasets.Oxford.load_data import data_loader\n",
    "from utils.cluster import KMEANS\n",
    "from utils.get_features import SIFT\n",
    "from utils.find_similar_vectors import KNN\n",
    "import matplotlib.pyplot as plt\n",
    "import numpy as np"
   ]
  },
  {
   "cell_type": "code",
   "execution_count": 2,
   "metadata": {},
   "outputs": [
    {
     "name": "stderr",
     "output_type": "stream",
     "text": [
      "100%|██████████| 17/17 [01:18<00:00,  4.61s/it]\n"
     ]
    }
   ],
   "source": [
    "images, image_labels = data_loader()\n",
    "images = images\n",
    "image_labels = image_labels"
   ]
  },
  {
   "cell_type": "code",
   "execution_count": 3,
   "metadata": {},
   "outputs": [],
   "source": [
    "from sklearn.model_selection import train_test_split\n",
    "\n",
    "train_images, test_images, train_labels, test_labels = train_test_split(\n",
    "    images, image_labels, shuffle=True, test_size=0.1)"
   ]
  },
  {
   "cell_type": "code",
   "execution_count": 4,
   "metadata": {},
   "outputs": [],
   "source": [
    "from importlib import reload\n",
    "\n",
    "from utils import get_features\n",
    "reload(get_features)\n",
    "from utils.get_features import SIFT"
   ]
  },
  {
   "cell_type": "code",
   "execution_count": 5,
   "metadata": {},
   "outputs": [
    {
     "name": "stderr",
     "output_type": "stream",
     "text": [
      "100%|██████████| 4556/4556 [09:48<00:00,  7.74it/s]\n"
     ]
    }
   ],
   "source": [
    "sift_detector = SIFT('sift')\n",
    "train_keypoints, features = sift_detector.get_features(train_images, True)\n",
    "\n",
    "features_array = np.concatenate(features, axis=0)"
   ]
  },
  {
   "cell_type": "code",
   "execution_count": 6,
   "metadata": {},
   "outputs": [
    {
     "name": "stdout",
     "output_type": "stream",
     "text": [
      "Sampling a subset of 128000 / 16060228 for training\n",
      "Clustering 128000 points in 128D to 500 clusters, redo 1 times, 200 iterations\n",
      "  Preprocessing in 1.72 s\n",
      "  Iteration 199 (9.47 s, search 8.48 s): objective=8.79824e+09 imbalance=1.094 nsplit=0       \n"
     ]
    }
   ],
   "source": [
    "num_features, dim = features_array.shape\n",
    "num_clusters = 500\n",
    "\n",
    "kmeans = KMEANS(dim, num_clusters=num_clusters, niter=200)\n",
    "kmeans.train(features_array)"
   ]
  },
  {
   "cell_type": "code",
   "execution_count": 7,
   "metadata": {},
   "outputs": [
    {
     "name": "stderr",
     "output_type": "stream",
     "text": [
      "100%|██████████| 4556/4556 [00:31<00:00, 145.23it/s]\n"
     ]
    }
   ],
   "source": [
    "from tqdm import tqdm\n",
    "\n",
    "\n",
    "hists = []\n",
    "\n",
    "for f in tqdm(features):\n",
    "    labels = kmeans.search(f)[:, 0]\n",
    "    counts = np.unique(labels, return_counts=True)\n",
    "    arr = np.zeros(num_clusters)\n",
    "    arr[counts[0]] = counts[1]\n",
    "    arr /= np.linalg.norm(arr)\n",
    "    hists.append(arr[None, :]) # dim: 1 x num_clusters\n",
    "\n",
    "hists = np.concatenate(hists, axis=0)    "
   ]
  },
  {
   "cell_type": "code",
   "execution_count": 8,
   "metadata": {},
   "outputs": [
    {
     "data": {
      "text/plain": [
       "array([[   0, 1075, 2797,  878, 2599, 2047, 3353, 4491, 1435, 2090],\n",
       "       [   1, 3603, 1169, 1073, 2819, 1835, 1438, 1582,  497,  340],\n",
       "       [   2, 1972, 1252, 1093, 3366, 2464, 1680,  755, 2510,  835]])"
      ]
     },
     "execution_count": 8,
     "metadata": {},
     "output_type": "execute_result"
    }
   ],
   "source": [
    "knn = KNN(num_clusters)\n",
    "knn.fit(hists)\n",
    "knn.findKNearest(hists[:3])"
   ]
  },
  {
   "cell_type": "markdown",
   "metadata": {},
   "source": [
    "# Testing"
   ]
  },
  {
   "cell_type": "code",
   "execution_count": 9,
   "metadata": {},
   "outputs": [
    {
     "name": "stderr",
     "output_type": "stream",
     "text": [
      "100%|██████████| 507/507 [01:05<00:00,  7.79it/s]\n"
     ]
    }
   ],
   "source": [
    "test_keypoints, test_features = sift_detector.get_features(test_images, True)\n"
   ]
  },
  {
   "cell_type": "code",
   "execution_count": 10,
   "metadata": {},
   "outputs": [],
   "source": [
    "def K_precisions(true_labels, ret_labels):\n",
    "    eq = ret_labels == true_labels\n",
    "    cumulative = np.cumsum(eq)\n",
    "    precisions = cumulative / (np.arange(len(ret_labels)) + 1)\n",
    "    return precisions"
   ]
  },
  {
   "cell_type": "code",
   "execution_count": 11,
   "metadata": {},
   "outputs": [],
   "source": [
    "K = 5\n",
    "\n",
    "APs = []\n",
    "for itr in range(len(test_images)):\n",
    "    image = test_images[itr]\n",
    "    true_label = test_labels[itr]\n",
    "    f = test_features[itr]\n",
    "    kp = test_keypoints[itr]\n",
    "    # it is possible that no descriptors are obtained\n",
    "    if f is None:\n",
    "        print(f'{true_label}: no features extracted')\n",
    "        continue\n",
    "\n",
    "    f = np.array(f)\n",
    "    \n",
    "    # histogram\n",
    "    labels = kmeans.search(f)[:, 0]\n",
    "    counts = np.unique(labels, return_counts=True)\n",
    "    arr = np.zeros(num_clusters)\n",
    "    arr[counts[0]] = counts[1]\n",
    "    arr /= np.linalg.norm(arr)\n",
    "    \n",
    "    # finding the nearest neighbours\n",
    "    indices = knn.findKNearest(arr[None, :], K)[0]\n",
    "    # finding the labels associated with retrieved\n",
    "    # neighbours\n",
    "    ret_labels = np.array([train_labels[i] for i in indices])\n",
    "    APs.append(K_precisions(true_label, ret_labels))\n",
    "\n",
    "\n",
    "APs = np.array(APs)\n",
    "mAP = np.mean(APs)    "
   ]
  },
  {
   "cell_type": "code",
   "execution_count": 13,
   "metadata": {},
   "outputs": [
    {
     "data": {
      "text/plain": [
       "array([0.3234714 , 0.32051282, 0.2991453 , 0.28648915, 0.27810651])"
      ]
     },
     "execution_count": 13,
     "metadata": {},
     "output_type": "execute_result"
    }
   ],
   "source": [
    "APs.mean(axis=0)"
   ]
  },
  {
   "cell_type": "code",
   "execution_count": 14,
   "metadata": {},
   "outputs": [
    {
     "data": {
      "text/plain": [
       "0.3015450361604208"
      ]
     },
     "execution_count": 14,
     "metadata": {},
     "output_type": "execute_result"
    }
   ],
   "source": [
    "mAP"
   ]
  },
  {
   "cell_type": "markdown",
   "metadata": {},
   "source": [
    "# RANSAC"
   ]
  },
  {
   "cell_type": "code",
   "execution_count": 15,
   "metadata": {},
   "outputs": [
    {
     "data": {
      "text/plain": [
       "<module 'utils.ransac' from '/raid/ai20btech11006/others/CBIR/utils/ransac.py'>"
      ]
     },
     "execution_count": 15,
     "metadata": {},
     "output_type": "execute_result"
    }
   ],
   "source": [
    "from importlib import reload\n",
    "from utils import ransac\n",
    "reload(ransac)"
   ]
  },
  {
   "cell_type": "code",
   "execution_count": 16,
   "metadata": {},
   "outputs": [
    {
     "name": "stderr",
     "output_type": "stream",
     "text": [
      "  0%|          | 1/507 [00:07<59:40,  7.08s/it]"
     ]
    },
    {
     "name": "stderr",
     "output_type": "stream",
     "text": [
      " 23%|██▎       | 118/507 [16:13<55:37,  8.58s/it]  Process Process-2951:\n",
      "Traceback (most recent call last):\n",
      "Process Process-2952:\n",
      "Process Process-2953:\n",
      "  File \"/raid/ai20btech11006/miniconda3/envs/ivp/lib/python3.10/multiprocessing/process.py\", line 314, in _bootstrap\n",
      "    self.run()\n",
      "  File \"/raid/ai20btech11006/miniconda3/envs/ivp/lib/python3.10/multiprocessing/process.py\", line 108, in run\n",
      "    self._target(*self._args, **self._kwargs)\n",
      "  File \"/raid/ai20btech11006/miniconda3/envs/ivp/lib/python3.10/multiprocessing/process.py\", line 314, in _bootstrap\n",
      "    self.run()\n",
      "  File \"/raid/ai20btech11006/others/CBIR/utils/ransac.py\", line 33, in rasnac_for_multiprocessing\n",
      "    res = method(*args)\n",
      "Traceback (most recent call last):\n",
      "Traceback (most recent call last):\n",
      "  File \"/raid/ai20btech11006/others/CBIR/utils/ransac.py\", line 15, in ransac_sift\n",
      "    matches = flann.knnMatch(d1, d2, k=2)\n",
      "  File \"/raid/ai20btech11006/miniconda3/envs/ivp/lib/python3.10/multiprocessing/process.py\", line 314, in _bootstrap\n",
      "    self.run()\n",
      "cv2.error: OpenCV(4.9.0) /io/opencv/modules/flann/src/miniflann.cpp:522: error: (-215:Assertion failed) query.type() == type && indices.type() == CV_32S && dists.type() == dtype in function 'runKnnSearch_'\n",
      "\n",
      "  File \"/raid/ai20btech11006/miniconda3/envs/ivp/lib/python3.10/multiprocessing/process.py\", line 108, in run\n",
      "    self._target(*self._args, **self._kwargs)\n",
      "  File \"/raid/ai20btech11006/miniconda3/envs/ivp/lib/python3.10/multiprocessing/process.py\", line 108, in run\n",
      "    self._target(*self._args, **self._kwargs)\n",
      "  File \"/raid/ai20btech11006/others/CBIR/utils/ransac.py\", line 33, in rasnac_for_multiprocessing\n",
      "    res = method(*args)\n",
      "  File \"/raid/ai20btech11006/others/CBIR/utils/ransac.py\", line 33, in rasnac_for_multiprocessing\n",
      "    res = method(*args)\n",
      "  File \"/raid/ai20btech11006/others/CBIR/utils/ransac.py\", line 15, in ransac_sift\n",
      "    matches = flann.knnMatch(d1, d2, k=2)\n",
      "  File \"/raid/ai20btech11006/others/CBIR/utils/ransac.py\", line 15, in ransac_sift\n",
      "    matches = flann.knnMatch(d1, d2, k=2)\n",
      "Process Process-2954:\n",
      "cv2.error: OpenCV(4.9.0) /io/opencv/modules/flann/src/miniflann.cpp:522: error: (-215:Assertion failed) query.type() == type && indices.type() == CV_32S && dists.type() == dtype in function 'runKnnSearch_'\n",
      "\n",
      "cv2.error: OpenCV(4.9.0) /io/opencv/modules/flann/src/miniflann.cpp:522: error: (-215:Assertion failed) query.type() == type && indices.type() == CV_32S && dists.type() == dtype in function 'runKnnSearch_'\n",
      "\n",
      "Traceback (most recent call last):\n",
      "Process Process-2955:\n",
      "  File \"/raid/ai20btech11006/miniconda3/envs/ivp/lib/python3.10/multiprocessing/process.py\", line 314, in _bootstrap\n",
      "    self.run()\n",
      "  File \"/raid/ai20btech11006/miniconda3/envs/ivp/lib/python3.10/multiprocessing/process.py\", line 108, in run\n",
      "    self._target(*self._args, **self._kwargs)\n",
      "  File \"/raid/ai20btech11006/others/CBIR/utils/ransac.py\", line 33, in rasnac_for_multiprocessing\n",
      "    res = method(*args)\n",
      "  File \"/raid/ai20btech11006/others/CBIR/utils/ransac.py\", line 15, in ransac_sift\n",
      "    matches = flann.knnMatch(d1, d2, k=2)\n",
      "Traceback (most recent call last):\n",
      "Process Process-2956:\n",
      "cv2.error: OpenCV(4.9.0) /io/opencv/modules/flann/src/miniflann.cpp:522: error: (-215:Assertion failed) query.type() == type && indices.type() == CV_32S && dists.type() == dtype in function 'runKnnSearch_'\n",
      "\n",
      "  File \"/raid/ai20btech11006/miniconda3/envs/ivp/lib/python3.10/multiprocessing/process.py\", line 314, in _bootstrap\n",
      "    self.run()\n",
      "  File \"/raid/ai20btech11006/miniconda3/envs/ivp/lib/python3.10/multiprocessing/process.py\", line 108, in run\n",
      "    self._target(*self._args, **self._kwargs)\n",
      "  File \"/raid/ai20btech11006/others/CBIR/utils/ransac.py\", line 33, in rasnac_for_multiprocessing\n",
      "    res = method(*args)\n",
      "  File \"/raid/ai20btech11006/others/CBIR/utils/ransac.py\", line 15, in ransac_sift\n",
      "    matches = flann.knnMatch(d1, d2, k=2)\n",
      "Traceback (most recent call last):\n",
      "Process Process-2957:\n",
      "cv2.error: OpenCV(4.9.0) /io/opencv/modules/flann/src/miniflann.cpp:522: error: (-215:Assertion failed) query.type() == type && indices.type() == CV_32S && dists.type() == dtype in function 'runKnnSearch_'\n",
      "\n",
      "  File \"/raid/ai20btech11006/miniconda3/envs/ivp/lib/python3.10/multiprocessing/process.py\", line 314, in _bootstrap\n",
      "    self.run()\n",
      "  File \"/raid/ai20btech11006/miniconda3/envs/ivp/lib/python3.10/multiprocessing/process.py\", line 108, in run\n",
      "    self._target(*self._args, **self._kwargs)\n",
      "  File \"/raid/ai20btech11006/others/CBIR/utils/ransac.py\", line 33, in rasnac_for_multiprocessing\n",
      "    res = method(*args)\n",
      "  File \"/raid/ai20btech11006/others/CBIR/utils/ransac.py\", line 15, in ransac_sift\n",
      "    matches = flann.knnMatch(d1, d2, k=2)\n",
      "Traceback (most recent call last):\n",
      "cv2.error: OpenCV(4.9.0) /io/opencv/modules/flann/src/miniflann.cpp:522: error: (-215:Assertion failed) query.type() == type && indices.type() == CV_32S && dists.type() == dtype in function 'runKnnSearch_'\n",
      "\n",
      "Process Process-2958:\n",
      "  File \"/raid/ai20btech11006/miniconda3/envs/ivp/lib/python3.10/multiprocessing/process.py\", line 314, in _bootstrap\n",
      "    self.run()\n",
      "  File \"/raid/ai20btech11006/miniconda3/envs/ivp/lib/python3.10/multiprocessing/process.py\", line 108, in run\n",
      "    self._target(*self._args, **self._kwargs)\n",
      "  File \"/raid/ai20btech11006/others/CBIR/utils/ransac.py\", line 33, in rasnac_for_multiprocessing\n",
      "    res = method(*args)\n",
      "  File \"/raid/ai20btech11006/others/CBIR/utils/ransac.py\", line 15, in ransac_sift\n",
      "    matches = flann.knnMatch(d1, d2, k=2)\n",
      "Traceback (most recent call last):\n",
      "cv2.error: OpenCV(4.9.0) /io/opencv/modules/flann/src/miniflann.cpp:522: error: (-215:Assertion failed) query.type() == type && indices.type() == CV_32S && dists.type() == dtype in function 'runKnnSearch_'\n",
      "\n",
      "Process Process-2959:\n",
      "  File \"/raid/ai20btech11006/miniconda3/envs/ivp/lib/python3.10/multiprocessing/process.py\", line 314, in _bootstrap\n",
      "    self.run()\n",
      "  File \"/raid/ai20btech11006/miniconda3/envs/ivp/lib/python3.10/multiprocessing/process.py\", line 108, in run\n",
      "    self._target(*self._args, **self._kwargs)\n",
      "  File \"/raid/ai20btech11006/others/CBIR/utils/ransac.py\", line 33, in rasnac_for_multiprocessing\n",
      "    res = method(*args)\n",
      "  File \"/raid/ai20btech11006/others/CBIR/utils/ransac.py\", line 15, in ransac_sift\n",
      "    matches = flann.knnMatch(d1, d2, k=2)\n",
      "cv2.error: OpenCV(4.9.0) /io/opencv/modules/flann/src/miniflann.cpp:522: error: (-215:Assertion failed) query.type() == type && indices.type() == CV_32S && dists.type() == dtype in function 'runKnnSearch_'\n",
      "\n",
      "Traceback (most recent call last):\n",
      "Process Process-2960:\n",
      "  File \"/raid/ai20btech11006/miniconda3/envs/ivp/lib/python3.10/multiprocessing/process.py\", line 314, in _bootstrap\n",
      "    self.run()\n",
      "  File \"/raid/ai20btech11006/miniconda3/envs/ivp/lib/python3.10/multiprocessing/process.py\", line 108, in run\n",
      "    self._target(*self._args, **self._kwargs)\n",
      "  File \"/raid/ai20btech11006/others/CBIR/utils/ransac.py\", line 33, in rasnac_for_multiprocessing\n",
      "    res = method(*args)\n",
      "  File \"/raid/ai20btech11006/others/CBIR/utils/ransac.py\", line 15, in ransac_sift\n",
      "    matches = flann.knnMatch(d1, d2, k=2)\n",
      "Traceback (most recent call last):\n",
      "Process Process-2961:\n",
      "Process Process-2962:\n",
      "cv2.error: OpenCV(4.9.0) /io/opencv/modules/flann/src/miniflann.cpp:522: error: (-215:Assertion failed) query.type() == type && indices.type() == CV_32S && dists.type() == dtype in function 'runKnnSearch_'\n",
      "\n",
      "  File \"/raid/ai20btech11006/miniconda3/envs/ivp/lib/python3.10/multiprocessing/process.py\", line 314, in _bootstrap\n",
      "    self.run()\n",
      "  File \"/raid/ai20btech11006/miniconda3/envs/ivp/lib/python3.10/multiprocessing/process.py\", line 108, in run\n",
      "    self._target(*self._args, **self._kwargs)\n",
      "  File \"/raid/ai20btech11006/others/CBIR/utils/ransac.py\", line 33, in rasnac_for_multiprocessing\n",
      "    res = method(*args)\n",
      "Traceback (most recent call last):\n",
      "Traceback (most recent call last):\n",
      "  File \"/raid/ai20btech11006/others/CBIR/utils/ransac.py\", line 15, in ransac_sift\n",
      "    matches = flann.knnMatch(d1, d2, k=2)\n",
      "  File \"/raid/ai20btech11006/miniconda3/envs/ivp/lib/python3.10/multiprocessing/process.py\", line 314, in _bootstrap\n",
      "    self.run()\n",
      "  File \"/raid/ai20btech11006/miniconda3/envs/ivp/lib/python3.10/multiprocessing/process.py\", line 314, in _bootstrap\n",
      "    self.run()\n",
      "cv2.error: OpenCV(4.9.0) /io/opencv/modules/flann/src/miniflann.cpp:522: error: (-215:Assertion failed) query.type() == type && indices.type() == CV_32S && dists.type() == dtype in function 'runKnnSearch_'\n",
      "\n",
      "  File \"/raid/ai20btech11006/miniconda3/envs/ivp/lib/python3.10/multiprocessing/process.py\", line 108, in run\n",
      "    self._target(*self._args, **self._kwargs)\n",
      "  File \"/raid/ai20btech11006/miniconda3/envs/ivp/lib/python3.10/multiprocessing/process.py\", line 108, in run\n",
      "    self._target(*self._args, **self._kwargs)\n",
      "  File \"/raid/ai20btech11006/others/CBIR/utils/ransac.py\", line 33, in rasnac_for_multiprocessing\n",
      "    res = method(*args)\n",
      "  File \"/raid/ai20btech11006/others/CBIR/utils/ransac.py\", line 33, in rasnac_for_multiprocessing\n",
      "    res = method(*args)\n",
      "  File \"/raid/ai20btech11006/others/CBIR/utils/ransac.py\", line 15, in ransac_sift\n",
      "    matches = flann.knnMatch(d1, d2, k=2)\n",
      "  File \"/raid/ai20btech11006/others/CBIR/utils/ransac.py\", line 15, in ransac_sift\n",
      "    matches = flann.knnMatch(d1, d2, k=2)\n",
      "cv2.error: OpenCV(4.9.0) /io/opencv/modules/flann/src/miniflann.cpp:522: error: (-215:Assertion failed) query.type() == type && indices.type() == CV_32S && dists.type() == dtype in function 'runKnnSearch_'\n",
      "\n",
      "cv2.error: OpenCV(4.9.0) /io/opencv/modules/flann/src/miniflann.cpp:522: error: (-215:Assertion failed) query.type() == type && indices.type() == CV_32S && dists.type() == dtype in function 'runKnnSearch_'\n",
      "\n",
      "Process Process-2963:\n",
      "Traceback (most recent call last):\n",
      "Process Process-2964:\n",
      "  File \"/raid/ai20btech11006/miniconda3/envs/ivp/lib/python3.10/multiprocessing/process.py\", line 314, in _bootstrap\n",
      "    self.run()\n",
      "  File \"/raid/ai20btech11006/miniconda3/envs/ivp/lib/python3.10/multiprocessing/process.py\", line 108, in run\n",
      "    self._target(*self._args, **self._kwargs)\n",
      "  File \"/raid/ai20btech11006/others/CBIR/utils/ransac.py\", line 33, in rasnac_for_multiprocessing\n",
      "    res = method(*args)\n",
      "  File \"/raid/ai20btech11006/others/CBIR/utils/ransac.py\", line 15, in ransac_sift\n",
      "    matches = flann.knnMatch(d1, d2, k=2)\n",
      "cv2.error: OpenCV(4.9.0) /io/opencv/modules/flann/src/miniflann.cpp:522: error: (-215:Assertion failed) query.type() == type && indices.type() == CV_32S && dists.type() == dtype in function 'runKnnSearch_'\n",
      "\n",
      "Traceback (most recent call last):\n",
      "Process Process-2965:\n",
      "  File \"/raid/ai20btech11006/miniconda3/envs/ivp/lib/python3.10/multiprocessing/process.py\", line 314, in _bootstrap\n",
      "    self.run()\n",
      "  File \"/raid/ai20btech11006/miniconda3/envs/ivp/lib/python3.10/multiprocessing/process.py\", line 108, in run\n",
      "    self._target(*self._args, **self._kwargs)\n",
      "  File \"/raid/ai20btech11006/others/CBIR/utils/ransac.py\", line 33, in rasnac_for_multiprocessing\n",
      "    res = method(*args)\n",
      "  File \"/raid/ai20btech11006/others/CBIR/utils/ransac.py\", line 15, in ransac_sift\n",
      "    matches = flann.knnMatch(d1, d2, k=2)\n",
      "cv2.error: OpenCV(4.9.0) /io/opencv/modules/flann/src/miniflann.cpp:522: error: (-215:Assertion failed) query.type() == type && indices.type() == CV_32S && dists.type() == dtype in function 'runKnnSearch_'\n",
      "\n",
      "Traceback (most recent call last):\n",
      "Process Process-2966:\n",
      "  File \"/raid/ai20btech11006/miniconda3/envs/ivp/lib/python3.10/multiprocessing/process.py\", line 314, in _bootstrap\n",
      "    self.run()\n",
      "  File \"/raid/ai20btech11006/miniconda3/envs/ivp/lib/python3.10/multiprocessing/process.py\", line 108, in run\n",
      "    self._target(*self._args, **self._kwargs)\n",
      "  File \"/raid/ai20btech11006/others/CBIR/utils/ransac.py\", line 33, in rasnac_for_multiprocessing\n",
      "    res = method(*args)\n",
      "Traceback (most recent call last):\n",
      "  File \"/raid/ai20btech11006/others/CBIR/utils/ransac.py\", line 15, in ransac_sift\n",
      "    matches = flann.knnMatch(d1, d2, k=2)\n",
      "  File \"/raid/ai20btech11006/miniconda3/envs/ivp/lib/python3.10/multiprocessing/process.py\", line 314, in _bootstrap\n",
      "    self.run()\n",
      "Process Process-2967:\n",
      "cv2.error: OpenCV(4.9.0) /io/opencv/modules/flann/src/miniflann.cpp:522: error: (-215:Assertion failed) query.type() == type && indices.type() == CV_32S && dists.type() == dtype in function 'runKnnSearch_'\n",
      "\n",
      "  File \"/raid/ai20btech11006/miniconda3/envs/ivp/lib/python3.10/multiprocessing/process.py\", line 108, in run\n",
      "    self._target(*self._args, **self._kwargs)\n",
      "  File \"/raid/ai20btech11006/others/CBIR/utils/ransac.py\", line 33, in rasnac_for_multiprocessing\n",
      "    res = method(*args)\n",
      "  File \"/raid/ai20btech11006/others/CBIR/utils/ransac.py\", line 15, in ransac_sift\n",
      "    matches = flann.knnMatch(d1, d2, k=2)\n",
      "cv2.error: OpenCV(4.9.0) /io/opencv/modules/flann/src/miniflann.cpp:522: error: (-215:Assertion failed) query.type() == type && indices.type() == CV_32S && dists.type() == dtype in function 'runKnnSearch_'\n",
      "\n",
      "Traceback (most recent call last):\n",
      "Process Process-2968:\n",
      "  File \"/raid/ai20btech11006/miniconda3/envs/ivp/lib/python3.10/multiprocessing/process.py\", line 314, in _bootstrap\n",
      "    self.run()\n",
      "  File \"/raid/ai20btech11006/miniconda3/envs/ivp/lib/python3.10/multiprocessing/process.py\", line 108, in run\n",
      "    self._target(*self._args, **self._kwargs)\n",
      "  File \"/raid/ai20btech11006/others/CBIR/utils/ransac.py\", line 33, in rasnac_for_multiprocessing\n",
      "    res = method(*args)\n",
      "  File \"/raid/ai20btech11006/others/CBIR/utils/ransac.py\", line 15, in ransac_sift\n",
      "    matches = flann.knnMatch(d1, d2, k=2)\n",
      "cv2.error: OpenCV(4.9.0) /io/opencv/modules/flann/src/miniflann.cpp:522: error: (-215:Assertion failed) query.type() == type && indices.type() == CV_32S && dists.type() == dtype in function 'runKnnSearch_'\n",
      "\n",
      "Traceback (most recent call last):\n",
      "Process Process-2969:\n",
      "  File \"/raid/ai20btech11006/miniconda3/envs/ivp/lib/python3.10/multiprocessing/process.py\", line 314, in _bootstrap\n",
      "    self.run()\n",
      "  File \"/raid/ai20btech11006/miniconda3/envs/ivp/lib/python3.10/multiprocessing/process.py\", line 108, in run\n",
      "    self._target(*self._args, **self._kwargs)\n",
      "  File \"/raid/ai20btech11006/others/CBIR/utils/ransac.py\", line 33, in rasnac_for_multiprocessing\n",
      "    res = method(*args)\n",
      "  File \"/raid/ai20btech11006/others/CBIR/utils/ransac.py\", line 15, in ransac_sift\n",
      "    matches = flann.knnMatch(d1, d2, k=2)\n",
      "Process Process-2971:\n",
      "cv2.error: OpenCV(4.9.0) /io/opencv/modules/flann/src/miniflann.cpp:522: error: (-215:Assertion failed) query.type() == type && indices.type() == CV_32S && dists.type() == dtype in function 'runKnnSearch_'\n",
      "\n",
      "Process Process-2970:\n",
      "Traceback (most recent call last):\n",
      "  File \"/raid/ai20btech11006/miniconda3/envs/ivp/lib/python3.10/multiprocessing/process.py\", line 314, in _bootstrap\n",
      "    self.run()\n",
      "  File \"/raid/ai20btech11006/miniconda3/envs/ivp/lib/python3.10/multiprocessing/process.py\", line 108, in run\n",
      "    self._target(*self._args, **self._kwargs)\n",
      "Traceback (most recent call last):\n",
      "Traceback (most recent call last):\n",
      "  File \"/raid/ai20btech11006/others/CBIR/utils/ransac.py\", line 33, in rasnac_for_multiprocessing\n",
      "    res = method(*args)\n",
      "  File \"/raid/ai20btech11006/miniconda3/envs/ivp/lib/python3.10/multiprocessing/process.py\", line 314, in _bootstrap\n",
      "    self.run()\n",
      "  File \"/raid/ai20btech11006/miniconda3/envs/ivp/lib/python3.10/multiprocessing/process.py\", line 314, in _bootstrap\n",
      "    self.run()\n",
      "  File \"/raid/ai20btech11006/others/CBIR/utils/ransac.py\", line 15, in ransac_sift\n",
      "    matches = flann.knnMatch(d1, d2, k=2)\n",
      "  File \"/raid/ai20btech11006/miniconda3/envs/ivp/lib/python3.10/multiprocessing/process.py\", line 108, in run\n",
      "    self._target(*self._args, **self._kwargs)\n",
      "  File \"/raid/ai20btech11006/miniconda3/envs/ivp/lib/python3.10/multiprocessing/process.py\", line 108, in run\n",
      "    self._target(*self._args, **self._kwargs)\n",
      "cv2.error: OpenCV(4.9.0) /io/opencv/modules/flann/src/miniflann.cpp:522: error: (-215:Assertion failed) query.type() == type && indices.type() == CV_32S && dists.type() == dtype in function 'runKnnSearch_'\n",
      "\n",
      "  File \"/raid/ai20btech11006/others/CBIR/utils/ransac.py\", line 33, in rasnac_for_multiprocessing\n",
      "    res = method(*args)\n",
      "  File \"/raid/ai20btech11006/others/CBIR/utils/ransac.py\", line 33, in rasnac_for_multiprocessing\n",
      "    res = method(*args)\n",
      "  File \"/raid/ai20btech11006/others/CBIR/utils/ransac.py\", line 15, in ransac_sift\n",
      "    matches = flann.knnMatch(d1, d2, k=2)\n",
      "  File \"/raid/ai20btech11006/others/CBIR/utils/ransac.py\", line 15, in ransac_sift\n",
      "    matches = flann.knnMatch(d1, d2, k=2)\n",
      "Process Process-2972:\n",
      "cv2.error: OpenCV(4.9.0) /io/opencv/modules/flann/src/miniflann.cpp:522: error: (-215:Assertion failed) query.type() == type && indices.type() == CV_32S && dists.type() == dtype in function 'runKnnSearch_'\n",
      "\n",
      "cv2.error: OpenCV(4.9.0) /io/opencv/modules/flann/src/miniflann.cpp:522: error: (-215:Assertion failed) query.type() == type && indices.type() == CV_32S && dists.type() == dtype in function 'runKnnSearch_'\n",
      "\n",
      "Traceback (most recent call last):\n",
      "Process Process-2973:\n",
      "  File \"/raid/ai20btech11006/miniconda3/envs/ivp/lib/python3.10/multiprocessing/process.py\", line 314, in _bootstrap\n",
      "    self.run()\n",
      "  File \"/raid/ai20btech11006/miniconda3/envs/ivp/lib/python3.10/multiprocessing/process.py\", line 108, in run\n",
      "    self._target(*self._args, **self._kwargs)\n",
      "  File \"/raid/ai20btech11006/others/CBIR/utils/ransac.py\", line 33, in rasnac_for_multiprocessing\n",
      "    res = method(*args)\n",
      "  File \"/raid/ai20btech11006/others/CBIR/utils/ransac.py\", line 15, in ransac_sift\n",
      "    matches = flann.knnMatch(d1, d2, k=2)\n",
      "cv2.error: OpenCV(4.9.0) /io/opencv/modules/flann/src/miniflann.cpp:522: error: (-215:Assertion failed) query.type() == type && indices.type() == CV_32S && dists.type() == dtype in function 'runKnnSearch_'\n",
      "\n",
      "Traceback (most recent call last):\n",
      "Process Process-2974:\n",
      "  File \"/raid/ai20btech11006/miniconda3/envs/ivp/lib/python3.10/multiprocessing/process.py\", line 314, in _bootstrap\n",
      "    self.run()\n",
      "  File \"/raid/ai20btech11006/miniconda3/envs/ivp/lib/python3.10/multiprocessing/process.py\", line 108, in run\n",
      "    self._target(*self._args, **self._kwargs)\n",
      "  File \"/raid/ai20btech11006/others/CBIR/utils/ransac.py\", line 33, in rasnac_for_multiprocessing\n",
      "    res = method(*args)\n",
      "  File \"/raid/ai20btech11006/others/CBIR/utils/ransac.py\", line 15, in ransac_sift\n",
      "    matches = flann.knnMatch(d1, d2, k=2)\n",
      "cv2.error: OpenCV(4.9.0) /io/opencv/modules/flann/src/miniflann.cpp:522: error: (-215:Assertion failed) query.type() == type && indices.type() == CV_32S && dists.type() == dtype in function 'runKnnSearch_'\n",
      "\n",
      "Traceback (most recent call last):\n",
      "  File \"/raid/ai20btech11006/miniconda3/envs/ivp/lib/python3.10/multiprocessing/process.py\", line 314, in _bootstrap\n",
      "    self.run()\n",
      "  File \"/raid/ai20btech11006/miniconda3/envs/ivp/lib/python3.10/multiprocessing/process.py\", line 108, in run\n",
      "    self._target(*self._args, **self._kwargs)\n",
      "  File \"/raid/ai20btech11006/others/CBIR/utils/ransac.py\", line 33, in rasnac_for_multiprocessing\n",
      "    res = method(*args)\n",
      "  File \"/raid/ai20btech11006/others/CBIR/utils/ransac.py\", line 15, in ransac_sift\n",
      "    matches = flann.knnMatch(d1, d2, k=2)\n",
      "cv2.error: OpenCV(4.9.0) /io/opencv/modules/flann/src/miniflann.cpp:522: error: (-215:Assertion failed) query.type() == type && indices.type() == CV_32S && dists.type() == dtype in function 'runKnnSearch_'\n",
      "\n",
      "Process Process-2975:\n",
      "Traceback (most recent call last):\n",
      "  File \"/raid/ai20btech11006/miniconda3/envs/ivp/lib/python3.10/multiprocessing/process.py\", line 314, in _bootstrap\n",
      "    self.run()\n",
      "  File \"/raid/ai20btech11006/miniconda3/envs/ivp/lib/python3.10/multiprocessing/process.py\", line 108, in run\n",
      "    self._target(*self._args, **self._kwargs)\n",
      "  File \"/raid/ai20btech11006/others/CBIR/utils/ransac.py\", line 33, in rasnac_for_multiprocessing\n",
      "    res = method(*args)\n",
      "  File \"/raid/ai20btech11006/others/CBIR/utils/ransac.py\", line 15, in ransac_sift\n",
      "    matches = flann.knnMatch(d1, d2, k=2)\n",
      "cv2.error: OpenCV(4.9.0) /io/opencv/modules/flann/src/miniflann.cpp:522: error: (-215:Assertion failed) query.type() == type && indices.type() == CV_32S && dists.type() == dtype in function 'runKnnSearch_'\n",
      "\n",
      "100%|██████████| 507/507 [1:16:15<00:00,  9.03s/it]\n"
     ]
    }
   ],
   "source": [
    "from utils.ransac import ransac_sift_multiprocessing, ransac_sift\n",
    "from multiprocessing import Process, Array\n",
    "\n",
    "\n",
    "K = 5\n",
    "precision = np.zeros(K)\n",
    "\n",
    "APs = []\n",
    "for itr in tqdm(range(len(test_images))):\n",
    "    image = test_images[itr]\n",
    "    true_label = test_labels[itr]\n",
    "    f = test_features[itr]\n",
    "    kp = test_keypoints[itr]\n",
    "    # it is possible that no descriptors are obtained\n",
    "    if f is None:\n",
    "        print(f'{true_label}: no features extracted')\n",
    "        continue\n",
    "\n",
    "    f = np.array(f)\n",
    "    \n",
    "    # histogram\n",
    "    labels = kmeans.search(f)[:, 0]\n",
    "    counts = np.unique(labels, return_counts=True)\n",
    "    arr = np.zeros(num_clusters)\n",
    "    arr[counts[0]] = counts[1]\n",
    "    arr /= np.linalg.norm(arr)\n",
    "    \n",
    "    # finding the nearest neighbours\n",
    "    indices = knn.findKNearest(arr[None, :], 5*K)[0]\n",
    "    kps = [train_keypoints[i] for i in indices]\n",
    "    ds = [features[i] for i in indices]\n",
    "    \n",
    "    scores = ransac_sift_multiprocessing(f, ds, kp, kps)\n",
    "    \n",
    "    high_score_indices = np.argsort(scores)[::-1][:K]\n",
    "    indices = indices[high_score_indices]\n",
    "    \n",
    "    # finding the labels associated with retrieved\n",
    "    # neighbours\n",
    "    ret_labels = np.array([train_labels[i] for i in indices[:K]])\n",
    "    APs.append(K_precisions(true_label, ret_labels))\n",
    "\n",
    "\n",
    "APs = np.array(APs)\n",
    "mAP = np.mean(APs)    "
   ]
  },
  {
   "cell_type": "code",
   "execution_count": 17,
   "metadata": {},
   "outputs": [
    {
     "data": {
      "text/plain": [
       "(array([0.42209073, 0.37968442, 0.34319527, 0.32149901, 0.30374753]),\n",
       " 0.35404339250493094)"
      ]
     },
     "execution_count": 17,
     "metadata": {},
     "output_type": "execute_result"
    }
   ],
   "source": [
    "APs.mean(axis=0), mAP"
   ]
  },
  {
   "cell_type": "code",
   "execution_count": null,
   "metadata": {},
   "outputs": [],
   "source": []
  }
 ],
 "metadata": {
  "kernelspec": {
   "display_name": "ivp",
   "language": "python",
   "name": "python3"
  },
  "language_info": {
   "codemirror_mode": {
    "name": "ipython",
    "version": 3
   },
   "file_extension": ".py",
   "mimetype": "text/x-python",
   "name": "python",
   "nbconvert_exporter": "python",
   "pygments_lexer": "ipython3",
   "version": "3.10.14"
  }
 },
 "nbformat": 4,
 "nbformat_minor": 2
}
