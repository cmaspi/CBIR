{
 "cells": [
  {
   "cell_type": "code",
   "execution_count": 1,
   "metadata": {},
   "outputs": [],
   "source": [
    "from Datasets.News.news_data_loader import data_loader\n",
    "from Datasets.News.news_gen_test import gen_test_data\n",
    "from utils.cluster import KMEANS\n",
    "from utils.get_features import SIFT\n",
    "from utils.find_similar_vectors import KNN\n",
    "import matplotlib.pyplot as plt\n",
    "import numpy as np"
   ]
  },
  {
   "cell_type": "code",
   "execution_count": 2,
   "metadata": {},
   "outputs": [
    {
     "name": "stderr",
     "output_type": "stream",
     "text": [
      "  0%|          | 0/41762 [00:00<?, ?it/s]"
     ]
    },
    {
     "name": "stderr",
     "output_type": "stream",
     "text": [
      "100%|██████████| 41762/41762 [01:59<00:00, 348.93it/s]\n"
     ]
    }
   ],
   "source": [
    "images, image_names = data_loader()"
   ]
  },
  {
   "cell_type": "code",
   "execution_count": 3,
   "metadata": {},
   "outputs": [
    {
     "name": "stderr",
     "output_type": "stream",
     "text": [
      "100%|██████████| 41762/41762 [19:13<00:00, 36.21it/s]\n"
     ]
    }
   ],
   "source": [
    "sift_detector = SIFT('sift')\n",
    "train_keypoints, features = sift_detector.get_features(images, True)\n",
    "\n",
    "features_array = np.concatenate(features, axis=0)"
   ]
  },
  {
   "cell_type": "code",
   "execution_count": 4,
   "metadata": {},
   "outputs": [
    {
     "name": "stdout",
     "output_type": "stream",
     "text": [
      "Sampling a subset of 128000 / 40025973 for training\n",
      "Clustering 128000 points in 128D to 500 clusters, redo 1 times, 200 iterations\n",
      "  Preprocessing in 5.18 s\n",
      "  Iteration 199 (11.53 s, search 10.33 s): objective=9.10152e+09 imbalance=1.075 nsplit=0       \n"
     ]
    }
   ],
   "source": [
    "num_features, dim = features_array.shape\n",
    "num_clusters = 500\n",
    "\n",
    "kmeans = KMEANS(dim, num_clusters=num_clusters, niter=200)\n",
    "kmeans.train(features_array)"
   ]
  },
  {
   "cell_type": "code",
   "execution_count": 5,
   "metadata": {},
   "outputs": [
    {
     "name": "stderr",
     "output_type": "stream",
     "text": [
      "100%|██████████| 41762/41762 [00:42<00:00, 984.33it/s] \n"
     ]
    }
   ],
   "source": [
    "from tqdm import tqdm\n",
    "\n",
    "\n",
    "hists = []\n",
    "\n",
    "for f in tqdm(features):\n",
    "    labels = kmeans.search(f)[:, 0]\n",
    "    counts = np.unique(labels, return_counts=True)\n",
    "    arr = np.zeros(num_clusters)\n",
    "    arr[counts[0]] = counts[1]\n",
    "    arr /= np.linalg.norm(arr)\n",
    "    hists.append(arr[None, :]) # dim: 1 x num_clusters\n",
    "\n",
    "hists = np.concatenate(hists, axis=0)    "
   ]
  },
  {
   "cell_type": "code",
   "execution_count": 6,
   "metadata": {},
   "outputs": [
    {
     "data": {
      "text/plain": [
       "array([[    0, 37067, 39414, 40146, 39766,   998, 40258,  4750, 10467,\n",
       "        40659],\n",
       "       [    1, 29337, 16279, 39619, 39894, 33187, 18322,  2704, 37769,\n",
       "          354],\n",
       "       [    2, 39948, 41430, 41675, 41606, 40258,  5423, 39744, 41758,\n",
       "        29731]])"
      ]
     },
     "execution_count": 6,
     "metadata": {},
     "output_type": "execute_result"
    }
   ],
   "source": [
    "knn = KNN(num_clusters)\n",
    "knn.fit(hists)\n",
    "knn.findKNearest(hists[:3])"
   ]
  },
  {
   "cell_type": "markdown",
   "metadata": {},
   "source": [
    "# Inferencing with augmented data"
   ]
  },
  {
   "cell_type": "code",
   "execution_count": 7,
   "metadata": {},
   "outputs": [
    {
     "name": "stderr",
     "output_type": "stream",
     "text": [
      "  2%|▏         | 1000/41762 [00:02<01:55, 352.81it/s]\n",
      "100%|██████████| 1000/1000 [00:22<00:00, 44.04it/s]\n"
     ]
    }
   ],
   "source": [
    "test_image_names, test_images = [], []\n",
    "num_test_images = 1000\n",
    "for itr, (img, name) in enumerate(gen_test_data()):\n",
    "    if itr == num_test_images:\n",
    "        break\n",
    "    test_images.append(img['image'])\n",
    "    test_image_names.append(name)\n",
    "    \n",
    "test_keypoints, test_features = sift_detector.get_features(test_images, True)"
   ]
  },
  {
   "cell_type": "code",
   "execution_count": 8,
   "metadata": {},
   "outputs": [
    {
     "name": "stderr",
     "output_type": "stream",
     "text": [
      "1000it [00:14, 71.29it/s]\n"
     ]
    }
   ],
   "source": [
    "K = 5\n",
    "precision = np.zeros(K)\n",
    "\n",
    "for itr, (image, name) in enumerate(tqdm(zip(test_images, test_image_names))):    # get the sift features\n",
    "    f = test_features[itr]    # it is possible that no descriptors are obtained\n",
    "    if f is None:\n",
    "        print(f'{name}: no features extracted')\n",
    "        continue\n",
    "        \n",
    "    f = np.array(f)\n",
    "    \n",
    "    # histogram\n",
    "    labels = kmeans.search(f)[:, 0]        \n",
    "    counts = np.unique(labels, return_counts=True)\n",
    "    arr = np.zeros(num_clusters)\n",
    "    arr[counts[0]] = counts[1]\n",
    "    arr /= np.linalg.norm(arr)\n",
    "    \n",
    "    # finding the nearest neighbours\n",
    "    indices = knn.findKNearest(arr[None, :], K)[0]\n",
    "    # finding the position of correct image\n",
    "    # in returned neighbours\n",
    "    # the original image may not be there in the image\n",
    "    pos = np.where(indices==itr)[0]\n",
    "    if pos.size:\n",
    "        precision[pos[0]:] += 1"
   ]
  },
  {
   "cell_type": "code",
   "execution_count": 9,
   "metadata": {},
   "outputs": [
    {
     "data": {
      "text/plain": [
       "array([0.75975976, 0.8038038 , 0.81881882, 0.82782783, 0.83483483])"
      ]
     },
     "execution_count": 9,
     "metadata": {},
     "output_type": "execute_result"
    }
   ],
   "source": [
    "precision/itr"
   ]
  },
  {
   "cell_type": "markdown",
   "metadata": {},
   "source": [
    "# RANSAC"
   ]
  },
  {
   "cell_type": "code",
   "execution_count": 10,
   "metadata": {},
   "outputs": [],
   "source": [
    "from utils.ransac import ransac_sift_multiprocessing, ransac_sift\n"
   ]
  },
  {
   "cell_type": "code",
   "execution_count": 11,
   "metadata": {},
   "outputs": [
    {
     "name": "stderr",
     "output_type": "stream",
     "text": [
      "1000it [4:38:21, 16.70s/it]\n"
     ]
    }
   ],
   "source": [
    "K = 5\n",
    "precision = np.zeros(K)\n",
    "\n",
    "for itr, (image, name) in enumerate(tqdm(zip(test_images, test_image_names))):    # get the sift features\n",
    "    f = test_features[itr]\n",
    "    kp = test_keypoints[itr]\n",
    "    # it is possible that no descriptors are obtained\n",
    "    if f is None:\n",
    "        print(f'{name}: no features extracted')\n",
    "        continue\n",
    "        \n",
    "    f = np.array(f)\n",
    "    \n",
    "    # histogram\n",
    "    labels = kmeans.search(f)[:, 0]        \n",
    "    counts = np.unique(labels, return_counts=True)\n",
    "    arr = np.zeros(num_clusters)\n",
    "    arr[counts[0]] = counts[1]\n",
    "    arr /= np.linalg.norm(arr)\n",
    "    \n",
    "    # finding the nearest neighbours\n",
    "    indices = knn.findKNearest(arr[None, :], 5*K)[0]\n",
    "    # RANSAC\n",
    "    kps = [train_keypoints[i] for i in indices]\n",
    "    ds = [features[i] for i in indices]\n",
    "    \n",
    "    scores = ransac_sift_multiprocessing(f, ds, kp, kps)\n",
    "    \n",
    "    high_score_indices = np.argsort(scores)[::-1][:K]\n",
    "    indices = indices[high_score_indices]\n",
    "    \n",
    "    # finding the position of correct image\n",
    "    # in returned neighbours\n",
    "    # the original image may not be there in the image\n",
    "    pos = np.where(indices==itr)[0]\n",
    "    if pos.size:\n",
    "        precision[pos[0]:] += 1"
   ]
  },
  {
   "cell_type": "code",
   "execution_count": 12,
   "metadata": {},
   "outputs": [
    {
     "data": {
      "text/plain": [
       "array([0.77577578, 0.82382382, 0.84284284, 0.84784785, 0.85485485])"
      ]
     },
     "execution_count": 12,
     "metadata": {},
     "output_type": "execute_result"
    }
   ],
   "source": [
    "precision/itr"
   ]
  }
 ],
 "metadata": {
  "kernelspec": {
   "display_name": "ivp",
   "language": "python",
   "name": "python3"
  },
  "language_info": {
   "codemirror_mode": {
    "name": "ipython",
    "version": 3
   },
   "file_extension": ".py",
   "mimetype": "text/x-python",
   "name": "python",
   "nbconvert_exporter": "python",
   "pygments_lexer": "ipython3",
   "version": "3.10.14"
  }
 },
 "nbformat": 4,
 "nbformat_minor": 2
}
