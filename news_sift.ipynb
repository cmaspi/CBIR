{
 "cells": [
  {
   "cell_type": "code",
   "execution_count": 1,
   "metadata": {},
   "outputs": [],
   "source": [
    "from Datasets.News.news_data_loader import data_loader\n",
    "from Datasets.News.news_gen_test import gen_test_data\n",
    "from utils.cluster import KMEANS\n",
    "from utils.get_features import SIFT\n",
    "from utils.find_similar_vectors import KNN\n",
    "import matplotlib.pyplot as plt\n",
    "import numpy as np"
   ]
  },
  {
   "cell_type": "code",
   "execution_count": 2,
   "metadata": {},
   "outputs": [
    {
     "name": "stderr",
     "output_type": "stream",
     "text": [
      "  0%|          | 0/41762 [00:00<?, ?it/s]"
     ]
    },
    {
     "name": "stderr",
     "output_type": "stream",
     "text": [
      "100%|██████████| 41762/41762 [01:58<00:00, 352.91it/s]\n"
     ]
    }
   ],
   "source": [
    "images, image_names = data_loader()"
   ]
  },
  {
   "cell_type": "code",
   "execution_count": 3,
   "metadata": {},
   "outputs": [
    {
     "name": "stderr",
     "output_type": "stream",
     "text": [
      "100%|██████████| 41762/41762 [03:32<00:00, 196.38it/s]\n"
     ]
    }
   ],
   "source": [
    "orb_detector = SIFT('orb')\n",
    "features = orb_detector.get_features(images)\n",
    "\n",
    "features_array = np.concatenate(features, axis=0)"
   ]
  },
  {
   "cell_type": "code",
   "execution_count": 4,
   "metadata": {},
   "outputs": [
    {
     "name": "stdout",
     "output_type": "stream",
     "text": [
      "Sampling a subset of 128000 / 20243502 for training\n",
      "Clustering 128000 points in 32D to 500 clusters, redo 1 times, 500 iterations\n",
      "  Preprocessing in 1.26 s\n",
      "  Iteration 499 (29.82 s, search 27.43 s): objective=1.13964e+10 imbalance=1.031 nsplit=0       \n"
     ]
    }
   ],
   "source": [
    "num_features, dim = features_array.shape\n",
    "num_clusters = 500\n",
    "\n",
    "kmeans = KMEANS(dim, num_clusters=num_clusters, niter=500)\n",
    "kmeans.train(features_array)"
   ]
  },
  {
   "cell_type": "code",
   "execution_count": 5,
   "metadata": {},
   "outputs": [
    {
     "name": "stderr",
     "output_type": "stream",
     "text": [
      "100%|██████████| 41762/41762 [00:39<00:00, 1067.13it/s]\n"
     ]
    }
   ],
   "source": [
    "from tqdm import tqdm\n",
    "\n",
    "\n",
    "hists = []\n",
    "\n",
    "for f in tqdm(features):\n",
    "    labels = kmeans.search(f)[:, 0]\n",
    "    counts = np.unique(labels, return_counts=True)\n",
    "    arr = np.zeros(num_clusters)\n",
    "    arr[counts[0]] = counts[1]\n",
    "    arr /= np.linalg.norm(arr)\n",
    "    hists.append(arr[None, :]) # dim: 1 x num_clusters\n",
    "\n",
    "hists = np.concatenate(hists, axis=0)    "
   ]
  },
  {
   "cell_type": "code",
   "execution_count": 6,
   "metadata": {},
   "outputs": [
    {
     "data": {
      "text/plain": [
       "array([[    0, 20261, 18966, 23944, 24203,  5653, 17760,  1336, 17768,\n",
       "        40842],\n",
       "       [    1, 18441, 34868, 18229, 27413, 32395, 14757, 21432, 39475,\n",
       "         6652],\n",
       "       [    2, 21442, 40447, 15355, 28175,  1816, 32178, 11354,  6023,\n",
       "        23861]])"
      ]
     },
     "execution_count": 6,
     "metadata": {},
     "output_type": "execute_result"
    }
   ],
   "source": [
    "knn = KNN(num_clusters)\n",
    "knn.fit(hists)\n",
    "knn.findKNearest(hists[:3])"
   ]
  },
  {
   "cell_type": "markdown",
   "metadata": {},
   "source": [
    "# Inferencing with augmented data"
   ]
  },
  {
   "cell_type": "code",
   "execution_count": 7,
   "metadata": {},
   "outputs": [],
   "source": [
    "from importlib import reload\n",
    "\n",
    "from Datasets.News import news_gen_test\n",
    "reload(news_gen_test)\n",
    "from Datasets.News.news_gen_test import gen_test_data"
   ]
  },
  {
   "cell_type": "code",
   "execution_count": 8,
   "metadata": {},
   "outputs": [
    {
     "name": "stderr",
     "output_type": "stream",
     "text": [
      "100%|██████████| 41762/41762 [23:11<00:00, 30.00it/s]\n",
      "41762it [23:11, 30.00it/s]\n"
     ]
    }
   ],
   "source": [
    "K = 10\n",
    "precision = np.zeros(K)\n",
    "\n",
    "for itr, (image, name) in enumerate(tqdm(gen_test_data())):\n",
    "    image = image['image']\n",
    "    # get the orb features\n",
    "    f = orb_detector.__get_features__(image)\n",
    "    # it is possible that no descriptors are obtained\n",
    "    if f is None:\n",
    "        print(f'{name}: no features extracted')\n",
    "        continue\n",
    "        \n",
    "    f = np.array(f)\n",
    "    \n",
    "    # histogram\n",
    "    labels = kmeans.search(f)[:, 0]        \n",
    "    counts = np.unique(labels, return_counts=True)\n",
    "    arr = np.zeros(num_clusters)\n",
    "    arr[counts[0]] = counts[1]\n",
    "    arr /= np.linalg.norm(arr)\n",
    "    \n",
    "    # finding the nearest neighbours\n",
    "    indices = knn.findKNearest(arr[None, :], K)[0]\n",
    "    # finding the position of correct image\n",
    "    # in returned neighbours\n",
    "    # the original image may not be there in the image\n",
    "    pos = np.where(indices==itr)[0]\n",
    "    if pos.size:\n",
    "        precision[pos[0]:] += 1"
   ]
  },
  {
   "cell_type": "code",
   "execution_count": 9,
   "metadata": {},
   "outputs": [
    {
     "data": {
      "text/plain": [
       "array([0.99554608, 0.99949714, 0.99985633, 1.        , 1.00002395,\n",
       "       1.00002395, 1.00002395, 1.00002395, 1.00002395, 1.00002395])"
      ]
     },
     "execution_count": 9,
     "metadata": {},
     "output_type": "execute_result"
    }
   ],
   "source": [
    "precision/itr"
   ]
  },
  {
   "cell_type": "code",
   "execution_count": null,
   "metadata": {},
   "outputs": [],
   "source": []
  }
 ],
 "metadata": {
  "kernelspec": {
   "display_name": "ivp",
   "language": "python",
   "name": "python3"
  },
  "language_info": {
   "codemirror_mode": {
    "name": "ipython",
    "version": 3
   },
   "file_extension": ".py",
   "mimetype": "text/x-python",
   "name": "python",
   "nbconvert_exporter": "python",
   "pygments_lexer": "ipython3",
   "version": "3.10.14"
  }
 },
 "nbformat": 4,
 "nbformat_minor": 2
}
