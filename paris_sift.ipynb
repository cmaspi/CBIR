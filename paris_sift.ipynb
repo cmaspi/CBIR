{
 "cells": [
  {
   "cell_type": "code",
   "execution_count": 1,
   "metadata": {},
   "outputs": [],
   "source": [
    "from Datasets.Paris.load_data import data_loader\n",
    "from utils.cluster import KMEANS\n",
    "from utils.get_features import SIFT\n",
    "from utils.find_similar_vectors import KNN\n",
    "import matplotlib.pyplot as plt\n",
    "import numpy as np"
   ]
  },
  {
   "cell_type": "code",
   "execution_count": 2,
   "metadata": {},
   "outputs": [
    {
     "name": "stderr",
     "output_type": "stream",
     "text": [
      "100%|██████████| 12/12 [01:38<00:00,  8.19s/it]\n"
     ]
    }
   ],
   "source": [
    "images, image_labels = data_loader()\n",
    "images = images\n",
    "image_labels = image_labels"
   ]
  },
  {
   "cell_type": "code",
   "execution_count": 3,
   "metadata": {},
   "outputs": [],
   "source": [
    "from sklearn.model_selection import train_test_split\n",
    "\n",
    "train_images, test_images, train_labels, test_labels = train_test_split(\n",
    "    images, image_labels, shuffle=True, test_size=0.1)"
   ]
  },
  {
   "cell_type": "code",
   "execution_count": 4,
   "metadata": {},
   "outputs": [],
   "source": [
    "from importlib import reload\n",
    "\n",
    "from utils import get_features\n",
    "reload(get_features)\n",
    "from utils.get_features import SIFT"
   ]
  },
  {
   "cell_type": "code",
   "execution_count": 5,
   "metadata": {},
   "outputs": [
    {
     "name": "stderr",
     "output_type": "stream",
     "text": [
      "100%|██████████| 5752/5752 [12:49<00:00,  7.48it/s]\n"
     ]
    }
   ],
   "source": [
    "sift_detector = SIFT('sift')\n",
    "train_keypoints, features = sift_detector.get_features(train_images, True)\n",
    "\n",
    "features_array = np.concatenate(features, axis=0)"
   ]
  },
  {
   "cell_type": "code",
   "execution_count": 6,
   "metadata": {},
   "outputs": [
    {
     "name": "stdout",
     "output_type": "stream",
     "text": [
      "Sampling a subset of 128000 / 19715703 for training\n",
      "Clustering 128000 points in 128D to 500 clusters, redo 1 times, 200 iterations\n",
      "  Preprocessing in 2.18 s\n",
      "  Iteration 199 (9.78 s, search 8.73 s): objective=8.72241e+09 imbalance=1.116 nsplit=0       \n"
     ]
    }
   ],
   "source": [
    "num_features, dim = features_array.shape\n",
    "num_clusters = 500\n",
    "\n",
    "kmeans = KMEANS(dim, num_clusters=num_clusters, niter=200)\n",
    "kmeans.train(features_array)"
   ]
  },
  {
   "cell_type": "code",
   "execution_count": 7,
   "metadata": {},
   "outputs": [
    {
     "name": "stderr",
     "output_type": "stream",
     "text": [
      "  3%|▎         | 158/5752 [00:01<00:45, 123.45it/s]"
     ]
    },
    {
     "name": "stderr",
     "output_type": "stream",
     "text": [
      "100%|██████████| 5752/5752 [00:50<00:00, 113.70it/s]\n"
     ]
    }
   ],
   "source": [
    "from tqdm import tqdm\n",
    "\n",
    "\n",
    "hists = []\n",
    "\n",
    "for f in tqdm(features):\n",
    "    labels = kmeans.search(f)[:, 0]\n",
    "    counts = np.unique(labels, return_counts=True)\n",
    "    arr = np.zeros(num_clusters)\n",
    "    arr[counts[0]] = counts[1]\n",
    "    arr /= np.linalg.norm(arr)\n",
    "    hists.append(arr[None, :]) # dim: 1 x num_clusters\n",
    "\n",
    "hists = np.concatenate(hists, axis=0)    "
   ]
  },
  {
   "cell_type": "code",
   "execution_count": 8,
   "metadata": {},
   "outputs": [
    {
     "data": {
      "text/plain": [
       "array([[   0, 4809, 2752, 4127, 5382, 5509,  158,  504, 2385,   97],\n",
       "       [   1,  240, 2852, 3750, 1724, 4527,   16, 1901, 1623, 4697],\n",
       "       [   2, 1364, 2670, 3749,  503,  327, 2182, 1060,   50, 4798]])"
      ]
     },
     "execution_count": 8,
     "metadata": {},
     "output_type": "execute_result"
    }
   ],
   "source": [
    "knn = KNN(num_clusters)\n",
    "knn.fit(hists)\n",
    "knn.findKNearest(hists[:3])"
   ]
  },
  {
   "cell_type": "markdown",
   "metadata": {},
   "source": [
    "# Testing"
   ]
  },
  {
   "cell_type": "code",
   "execution_count": 9,
   "metadata": {},
   "outputs": [
    {
     "name": "stderr",
     "output_type": "stream",
     "text": [
      "100%|██████████| 640/640 [01:24<00:00,  7.60it/s]\n"
     ]
    }
   ],
   "source": [
    "test_keypoints, test_features = sift_detector.get_features(test_images, True)\n"
   ]
  },
  {
   "cell_type": "code",
   "execution_count": 10,
   "metadata": {},
   "outputs": [],
   "source": [
    "def K_precisions(true_labels, ret_labels):\n",
    "    eq = ret_labels == true_labels\n",
    "    cumulative = np.cumsum(eq)\n",
    "    precisions = cumulative / (np.arange(len(ret_labels)) + 1)\n",
    "    return precisions"
   ]
  },
  {
   "cell_type": "code",
   "execution_count": 11,
   "metadata": {},
   "outputs": [],
   "source": [
    "K = 5\n",
    "\n",
    "APs = []\n",
    "for itr in range(len(test_images)):\n",
    "    image = test_images[itr]\n",
    "    true_label = test_labels[itr]\n",
    "    f = test_features[itr]\n",
    "    kp = test_keypoints[itr]\n",
    "    # it is possible that no descriptors are obtained\n",
    "    if f is None:\n",
    "        print(f'{true_label}: no features extracted')\n",
    "        continue\n",
    "\n",
    "    f = np.array(f)\n",
    "    \n",
    "    # histogram\n",
    "    labels = kmeans.search(f)[:, 0]\n",
    "    counts = np.unique(labels, return_counts=True)\n",
    "    arr = np.zeros(num_clusters)\n",
    "    arr[counts[0]] = counts[1]\n",
    "    arr /= np.linalg.norm(arr)\n",
    "    \n",
    "    # finding the nearest neighbours\n",
    "    indices = knn.findKNearest(arr[None, :], K)[0]\n",
    "    # finding the labels associated with retrieved\n",
    "    # neighbours\n",
    "    ret_labels = np.array([train_labels[i] for i in indices])\n",
    "    APs.append(K_precisions(true_label, ret_labels))\n",
    "\n",
    "\n",
    "APs = np.array(APs)\n",
    "mAP = np.mean(APs)    "
   ]
  },
  {
   "cell_type": "code",
   "execution_count": 12,
   "metadata": {},
   "outputs": [
    {
     "data": {
      "text/plain": [
       "array([0.54674797, 0.50914634, 0.49051491, 0.46849593, 0.45487805])"
      ]
     },
     "execution_count": 12,
     "metadata": {},
     "output_type": "execute_result"
    }
   ],
   "source": [
    "non_general_indices = np.where(np.array(test_labels) != 'general')\n",
    "APs[non_general_indices].mean(axis=0)"
   ]
  },
  {
   "cell_type": "code",
   "execution_count": 13,
   "metadata": {},
   "outputs": [
    {
     "data": {
      "text/plain": [
       "array([0.51875   , 0.48671875, 0.47291667, 0.45625   , 0.4471875 ])"
      ]
     },
     "execution_count": 13,
     "metadata": {},
     "output_type": "execute_result"
    }
   ],
   "source": [
    "APs.mean(axis=0)"
   ]
  },
  {
   "cell_type": "code",
   "execution_count": 14,
   "metadata": {},
   "outputs": [
    {
     "data": {
      "text/plain": [
       "0.47636458333333337"
      ]
     },
     "execution_count": 14,
     "metadata": {},
     "output_type": "execute_result"
    }
   ],
   "source": [
    "mAP"
   ]
  },
  {
   "cell_type": "markdown",
   "metadata": {},
   "source": [
    "# RANSAC"
   ]
  },
  {
   "cell_type": "code",
   "execution_count": 15,
   "metadata": {},
   "outputs": [
    {
     "data": {
      "text/plain": [
       "<module 'utils.ransac' from '/raid/ai20btech11006/others/CBIR/utils/ransac.py'>"
      ]
     },
     "execution_count": 15,
     "metadata": {},
     "output_type": "execute_result"
    }
   ],
   "source": [
    "from importlib import reload\n",
    "from utils import ransac\n",
    "reload(ransac)"
   ]
  },
  {
   "cell_type": "code",
   "execution_count": 16,
   "metadata": {},
   "outputs": [
    {
     "name": "stderr",
     "output_type": "stream",
     "text": [
      "  0%|          | 0/640 [00:00<?, ?it/s]"
     ]
    },
    {
     "name": "stderr",
     "output_type": "stream",
     "text": [
      "100%|██████████| 640/640 [1:50:08<00:00, 10.33s/it]\n"
     ]
    }
   ],
   "source": [
    "from utils.ransac import ransac_sift_multiprocessing, ransac_sift\n",
    "from multiprocessing import Process, Array\n",
    "\n",
    "\n",
    "K = 5\n",
    "precision = np.zeros(K)\n",
    "\n",
    "APs = []\n",
    "for itr in tqdm(range(len(test_images))):\n",
    "    image = test_images[itr]\n",
    "    true_label = test_labels[itr]\n",
    "    f = test_features[itr]\n",
    "    kp = test_keypoints[itr]\n",
    "    # it is possible that no descriptors are obtained\n",
    "    if f is None:\n",
    "        print(f'{true_label}: no features extracted')\n",
    "        continue\n",
    "\n",
    "    f = np.array(f)\n",
    "    \n",
    "    # histogram\n",
    "    labels = kmeans.search(f)[:, 0]\n",
    "    counts = np.unique(labels, return_counts=True)\n",
    "    arr = np.zeros(num_clusters)\n",
    "    arr[counts[0]] = counts[1]\n",
    "    arr /= np.linalg.norm(arr)\n",
    "    \n",
    "    # finding the nearest neighbours\n",
    "    indices = knn.findKNearest(arr[None, :], 5*K)[0]\n",
    "    kps = [train_keypoints[i] for i in indices]\n",
    "    ds = [features[i] for i in indices]\n",
    "    \n",
    "    scores = ransac_sift_multiprocessing(f, ds, kp, kps)\n",
    "    \n",
    "    high_score_indices = np.argsort(scores)[::-1][:K]\n",
    "    indices = indices[high_score_indices]\n",
    "    \n",
    "    # finding the labels associated with retrieved\n",
    "    # neighbours\n",
    "    ret_labels = np.array([train_labels[i] for i in indices[:K]])\n",
    "    APs.append(K_precisions(true_label, ret_labels))\n",
    "\n",
    "\n",
    "APs = np.array(APs)\n",
    "mAP = np.mean(APs)    "
   ]
  },
  {
   "cell_type": "code",
   "execution_count": 17,
   "metadata": {},
   "outputs": [
    {
     "data": {
      "text/plain": [
       "(array([0.575     , 0.5375    , 0.51822917, 0.50039062, 0.486875  ]),\n",
       " 0.5235989583333334)"
      ]
     },
     "execution_count": 17,
     "metadata": {},
     "output_type": "execute_result"
    }
   ],
   "source": [
    "APs.mean(axis=0), mAP"
   ]
  },
  {
   "cell_type": "code",
   "execution_count": 18,
   "metadata": {},
   "outputs": [
    {
     "data": {
      "text/plain": [
       "array([0.58943089, 0.55182927, 0.54200542, 0.51930894, 0.50447154])"
      ]
     },
     "execution_count": 18,
     "metadata": {},
     "output_type": "execute_result"
    }
   ],
   "source": [
    "non_general_indices = np.where(np.array(test_labels) != 'general')\n",
    "APs[non_general_indices].mean(axis=0)"
   ]
  },
  {
   "cell_type": "code",
   "execution_count": null,
   "metadata": {},
   "outputs": [],
   "source": []
  }
 ],
 "metadata": {
  "kernelspec": {
   "display_name": "ivp",
   "language": "python",
   "name": "python3"
  },
  "language_info": {
   "codemirror_mode": {
    "name": "ipython",
    "version": 3
   },
   "file_extension": ".py",
   "mimetype": "text/x-python",
   "name": "python",
   "nbconvert_exporter": "python",
   "pygments_lexer": "ipython3",
   "version": "3.10.14"
  }
 },
 "nbformat": 4,
 "nbformat_minor": 2
}
