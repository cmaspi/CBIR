{
 "cells": [
  {
   "cell_type": "code",
   "execution_count": 1,
   "metadata": {},
   "outputs": [],
   "source": [
    "from Datasets.Paris.load_data import data_loader\n",
    "from utils.cluster import KMEANS\n",
    "from utils.get_features import SIFT\n",
    "from utils.find_similar_vectors import KNN\n",
    "import matplotlib.pyplot as plt\n",
    "import numpy as np"
   ]
  },
  {
   "cell_type": "code",
   "execution_count": 2,
   "metadata": {},
   "outputs": [
    {
     "name": "stderr",
     "output_type": "stream",
     "text": [
      "100%|██████████| 12/12 [01:48<00:00,  9.05s/it]\n"
     ]
    }
   ],
   "source": [
    "images, image_labels = data_loader()"
   ]
  },
  {
   "cell_type": "code",
   "execution_count": 3,
   "metadata": {},
   "outputs": [],
   "source": [
    "from sklearn.model_selection import train_test_split\n",
    "\n",
    "train_images, test_images, train_labels, test_labels = train_test_split(\n",
    "    images, image_labels, shuffle=True, test_size=0.1)"
   ]
  },
  {
   "cell_type": "code",
   "execution_count": 4,
   "metadata": {},
   "outputs": [],
   "source": [
    "from importlib import reload\n",
    "\n",
    "from utils import get_features\n",
    "reload(get_features)\n",
    "from utils.get_features import SIFT"
   ]
  },
  {
   "cell_type": "code",
   "execution_count": 5,
   "metadata": {},
   "outputs": [
    {
     "name": "stderr",
     "output_type": "stream",
     "text": [
      "100%|██████████| 5752/5752 [14:49<00:00,  6.47it/s]\n"
     ]
    }
   ],
   "source": [
    "orb_detector = SIFT('sift')\n",
    "features = orb_detector.get_features(train_images)\n",
    "\n",
    "features_array = np.concatenate(features, axis=0)"
   ]
  },
  {
   "cell_type": "code",
   "execution_count": 6,
   "metadata": {},
   "outputs": [
    {
     "name": "stdout",
     "output_type": "stream",
     "text": [
      "Sampling a subset of 128000 / 19698092 for training\n",
      "Clustering 128000 points in 128D to 500 clusters, redo 1 times, 500 iterations\n",
      "  Preprocessing in 3.01 s\n",
      "  Iteration 499 (32.38 s, search 28.97 s): objective=8.70966e+09 imbalance=1.113 nsplit=0       \n"
     ]
    }
   ],
   "source": [
    "num_features, dim = features_array.shape\n",
    "num_clusters = 500\n",
    "\n",
    "kmeans = KMEANS(dim, num_clusters=num_clusters, niter=500)\n",
    "kmeans.train(features_array)"
   ]
  },
  {
   "cell_type": "code",
   "execution_count": 7,
   "metadata": {},
   "outputs": [
    {
     "name": "stderr",
     "output_type": "stream",
     "text": [
      "100%|██████████| 5752/5752 [00:30<00:00, 186.80it/s]\n"
     ]
    }
   ],
   "source": [
    "from tqdm import tqdm\n",
    "\n",
    "\n",
    "hists = []\n",
    "\n",
    "for f in tqdm(features):\n",
    "    labels = kmeans.search(f)[:, 0]\n",
    "    counts = np.unique(labels, return_counts=True)\n",
    "    arr = np.zeros(num_clusters)\n",
    "    arr[counts[0]] = counts[1]\n",
    "    arr /= np.linalg.norm(arr)\n",
    "    hists.append(arr[None, :]) # dim: 1 x num_clusters\n",
    "\n",
    "hists = np.concatenate(hists, axis=0)    "
   ]
  },
  {
   "cell_type": "code",
   "execution_count": 8,
   "metadata": {},
   "outputs": [
    {
     "data": {
      "text/plain": [
       "array([[   0, 5372, 3431, 2324, 3518, 1248,  814, 4142, 2744, 5587],\n",
       "       [   1, 4927, 3077, 1553,  107, 5359, 3010,  931, 2469, 1033],\n",
       "       [   2, 3467, 4391, 4883,  610, 4688, 3039, 5029, 2038,  259]])"
      ]
     },
     "execution_count": 8,
     "metadata": {},
     "output_type": "execute_result"
    }
   ],
   "source": [
    "knn = KNN(num_clusters)\n",
    "knn.fit(hists)\n",
    "knn.findKNearest(hists[:3])"
   ]
  },
  {
   "cell_type": "markdown",
   "metadata": {},
   "source": [
    "# Testing"
   ]
  },
  {
   "cell_type": "code",
   "execution_count": 9,
   "metadata": {},
   "outputs": [],
   "source": [
    "def K_precisions(true_labels, ret_labels):\n",
    "    eq = ret_labels == true_labels\n",
    "    cumulative = np.cumsum(eq)\n",
    "    precisions = cumulative / (np.arange(len(ret_labels)) + 1)\n",
    "    return precisions"
   ]
  },
  {
   "cell_type": "code",
   "execution_count": 10,
   "metadata": {},
   "outputs": [
    {
     "name": "stderr",
     "output_type": "stream",
     "text": [
      "640it [02:45,  3.86it/s]\n"
     ]
    }
   ],
   "source": [
    "K = 5\n",
    "precision = np.zeros(K)\n",
    "\n",
    "APs = []\n",
    "for image, true_label in tqdm(zip(test_images, test_labels)):\n",
    "    # get the orb features\n",
    "    f = orb_detector.__get_features__(image)\n",
    "    # it is possible that no descriptors are obtained\n",
    "    if f is None:\n",
    "        print(f'{true_label}: no features extracted')\n",
    "        continue\n",
    "\n",
    "    f = np.array(f)\n",
    "    \n",
    "    # histogram\n",
    "    labels = kmeans.search(f)[:, 0]\n",
    "    counts = np.unique(labels, return_counts=True)\n",
    "    arr = np.zeros(num_clusters)\n",
    "    arr[counts[0]] = counts[1]\n",
    "    arr /= np.linalg.norm(arr)\n",
    "    \n",
    "    # finding the nearest neighbours\n",
    "    indices = knn.findKNearest(arr[None, :], K)[0]\n",
    "    # finding the labels associated with retrieved\n",
    "    # neighbours\n",
    "    ret_labels = np.array([train_labels[i] for i in indices])\n",
    "    APs.append(K_precisions(true_label, ret_labels))\n",
    "\n",
    "\n",
    "APs = np.array(APs)\n",
    "mAP = np.mean(APs)    "
   ]
  },
  {
   "cell_type": "code",
   "execution_count": 19,
   "metadata": {},
   "outputs": [
    {
     "data": {
      "text/plain": [
       "array([0.55693582, 0.52173913, 0.49689441, 0.48033126, 0.47039337])"
      ]
     },
     "execution_count": 19,
     "metadata": {},
     "output_type": "execute_result"
    }
   ],
   "source": [
    "non_general_indices = np.where(np.array(test_labels) != 'general')\n",
    "APs[non_general_indices].mean(axis=0)"
   ]
  },
  {
   "cell_type": "code",
   "execution_count": 11,
   "metadata": {},
   "outputs": [
    {
     "data": {
      "text/plain": [
       "array([0.5296875 , 0.4921875 , 0.47395833, 0.46484375, 0.455     ])"
      ]
     },
     "execution_count": 11,
     "metadata": {},
     "output_type": "execute_result"
    }
   ],
   "source": [
    "APs.mean(axis=0)"
   ]
  },
  {
   "cell_type": "code",
   "execution_count": 12,
   "metadata": {},
   "outputs": [
    {
     "data": {
      "text/plain": [
       "0.48313541666666665"
      ]
     },
     "execution_count": 12,
     "metadata": {},
     "output_type": "execute_result"
    }
   ],
   "source": [
    "mAP"
   ]
  },
  {
   "cell_type": "code",
   "execution_count": null,
   "metadata": {},
   "outputs": [],
   "source": []
  }
 ],
 "metadata": {
  "kernelspec": {
   "display_name": "ivp",
   "language": "python",
   "name": "python3"
  },
  "language_info": {
   "codemirror_mode": {
    "name": "ipython",
    "version": 3
   },
   "file_extension": ".py",
   "mimetype": "text/x-python",
   "name": "python",
   "nbconvert_exporter": "python",
   "pygments_lexer": "ipython3",
   "version": "3.10.14"
  }
 },
 "nbformat": 4,
 "nbformat_minor": 2
}
